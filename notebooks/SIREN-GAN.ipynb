{
 "cells": [
  {
   "cell_type": "code",
   "execution_count": 1,
   "id": "0e84ce61",
   "metadata": {},
   "outputs": [],
   "source": [
    "import torch\n",
    "from pathlib import Path\n",
    "from siren.models.dcgan import Model as DCGAN\n",
    "from siren.models.sirengan import Model as SIRENGAN\n",
    "from siren.models.generate import walk"
   ]
  },
  {
   "cell_type": "code",
   "execution_count": 2,
   "id": "40765717",
   "metadata": {},
   "outputs": [],
   "source": [
    "model = SIRENGAN()\n",
    "model.load(Path('../models/sirengan').expanduser())\n",
    "path_to_dump = Path('../reports/figures/sirengan')"
   ]
  },
  {
   "cell_type": "code",
   "execution_count": 3,
   "id": "a414b581",
   "metadata": {},
   "outputs": [],
   "source": [
    "zx = torch.FloatTensor(1, 2)                                                                                                                                                                                       \n",
    "z1 = torch.randn(1, 2)                                                                                                                                                                                             \n",
    "z2 = torch.randn(1, 2)\n",
    "walk(model, zx, z1, z2, 8, path_to_dump)"
   ]
  }
 ],
 "metadata": {
  "kernelspec": {
   "display_name": "Python 3 (ipykernel)",
   "language": "python",
   "name": "python3"
  },
  "language_info": {
   "codemirror_mode": {
    "name": "ipython",
    "version": 3
   },
   "file_extension": ".py",
   "mimetype": "text/x-python",
   "name": "python",
   "nbconvert_exporter": "python",
   "pygments_lexer": "ipython3",
   "version": "3.8.13"
  }
 },
 "nbformat": 4,
 "nbformat_minor": 5
}
